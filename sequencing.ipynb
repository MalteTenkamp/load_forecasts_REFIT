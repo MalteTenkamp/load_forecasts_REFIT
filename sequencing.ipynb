{
 "cells": [
  {
   "cell_type": "code",
   "execution_count": 29,
   "metadata": {},
   "outputs": [],
   "source": [
    "import pandas as pd\n",
    "import matplotlib.pyplot as plt\n",
    "from sklearn.preprocessing import StandardScaler\n",
    "from random import sample"
   ]
  },
  {
   "cell_type": "code",
   "execution_count": 2,
   "metadata": {},
   "outputs": [],
   "source": [
    "%run functions.ipynb\n",
    "%run Appliance_Information_Tools.ipynb"
   ]
  },
  {
   "cell_type": "code",
   "execution_count": 41,
   "metadata": {},
   "outputs": [],
   "source": [
    "house = read_clean_house(7, 8000000, drop_appliances=True)\n",
    "processed = thirty_min_steps_and_explicit_time_features(house)"
   ]
  },
  {
   "cell_type": "code",
   "execution_count": 42,
   "metadata": {},
   "outputs": [],
   "source": [
    "scaler = StandardScaler()\n",
    "processed['Aggregate_standardized'] = scaler.fit_transform(processed[['Aggregate']])"
   ]
  },
  {
   "cell_type": "code",
   "execution_count": 43,
   "metadata": {},
   "outputs": [],
   "source": [
    "processed.drop(columns=['Aggregate'], inplace=True)"
   ]
  },
  {
   "cell_type": "code",
   "execution_count": null,
   "metadata": {},
   "outputs": [],
   "source": [
    "processed.head(50)"
   ]
  },
  {
   "cell_type": "code",
   "execution_count": 44,
   "metadata": {},
   "outputs": [],
   "source": [
    "for i in range(1, 7):\n",
    "    processed[f'Aggregate_t+{i}'] = processed['Aggregate_standardized'].shift(-i)"
   ]
  },
  {
   "cell_type": "code",
   "execution_count": 45,
   "metadata": {},
   "outputs": [],
   "source": [
    "sequence_length = 20  # Assuming each record is 30 minutes, so 20 records for 10 hours\n",
    "num_sequences = 1000  # Desired number of sequences\n",
    "\n",
    "# Generate random start points based on index positions, not datetime values\n",
    "max_start_pos = len(processed) - sequence_length\n",
    "start_pos = sample(range(max_start_pos), k=min(num_sequences, max_start_pos))\n",
    "\n",
    "sequences = []\n",
    "for pos in start_pos:\n",
    "    # Extract sequences by index positions\n",
    "    sequence = processed.iloc[pos:pos + sequence_length]\n",
    "    sequences.append(sequence)\n"
   ]
  },
  {
   "cell_type": "code",
   "execution_count": null,
   "metadata": {},
   "outputs": [],
   "source": [
    "for i, sequence in enumerate(sequences[:9]):\n",
    "    print(f\"Sequence {i+1}:\")\n",
    "    print(sequence)\n",
    "    print(\"\\n\" + \"-\"*50 + \"\\n\")"
   ]
  }
 ],
 "metadata": {
  "kernelspec": {
   "display_name": "Python 3",
   "language": "python",
   "name": "python3"
  },
  "language_info": {
   "codemirror_mode": {
    "name": "ipython",
    "version": 3
   },
   "file_extension": ".py",
   "mimetype": "text/x-python",
   "name": "python",
   "nbconvert_exporter": "python",
   "pygments_lexer": "ipython3",
   "version": "3.9.13"
  }
 },
 "nbformat": 4,
 "nbformat_minor": 2
}
